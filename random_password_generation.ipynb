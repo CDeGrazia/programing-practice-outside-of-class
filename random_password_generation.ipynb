{
  "nbformat": 4,
  "nbformat_minor": 0,
  "metadata": {
    "colab": {
      "provenance": [],
      "authorship_tag": "ABX9TyPqVmi38lxgoR+YvGfQsNrS",
      "include_colab_link": true
    },
    "kernelspec": {
      "name": "python3",
      "display_name": "Python 3"
    },
    "language_info": {
      "name": "python"
    }
  },
  "cells": [
    {
      "cell_type": "markdown",
      "metadata": {
        "id": "view-in-github",
        "colab_type": "text"
      },
      "source": [
        "<a href=\"https://colab.research.google.com/github/CDeGrazia/programing-practice-outside-of-class/blob/main/random_password_generation.ipynb\" target=\"_parent\"><img src=\"https://colab.research.google.com/assets/colab-badge.svg\" alt=\"Open In Colab\"/></a>"
      ]
    },
    {
      "cell_type": "code",
      "execution_count": 7,
      "metadata": {
        "colab": {
          "base_uri": "https://localhost:8080/"
        },
        "id": "mxaFhHcbIrtX",
        "outputId": "fbd48cfd-3e5d-4364-b2aa-9f09a5717cda"
      },
      "outputs": [
        {
          "output_type": "stream",
          "name": "stdout",
          "text": [
            "qV2!mymI.eN=\n"
          ]
        }
      ],
      "source": [
        "import random\n",
        "\n",
        "def generate_password(length):\n",
        "    # Define the character set for the password\n",
        "    character_set = \"abcdefghijklmnopqrstuvwxyzABCDEFGHIJKLMNOPQRSTUVWXYZ1234567890!@#$%^&*()_+-=[]{}|;':\\\",./<>?\"\n",
        "\n",
        "    # Generate a password of the desired length using the character set\n",
        "    password = ''.join(random.choice(character_set) for i in range(length))\n",
        "\n",
        "    # Return the password\n",
        "    return password\n",
        "\n",
        "# Test the function with a password length of 16\n",
        "password = generate_password(12)\n",
        "print(password)\n"
      ]
    },
    {
      "cell_type": "markdown",
      "source": [
        "random password generation"
      ],
      "metadata": {
        "id": "B3N3Kl03I75D"
      }
    }
  ]
}