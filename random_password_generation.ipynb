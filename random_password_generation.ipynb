{
  "nbformat": 4,
  "nbformat_minor": 0,
  "metadata": {
    "colab": {
      "provenance": [],
      "authorship_tag": "ABX9TyO4SO0c9vRpJVWKJ4v2syfr",
      "include_colab_link": true
    },
    "kernelspec": {
      "name": "python3",
      "display_name": "Python 3"
    },
    "language_info": {
      "name": "python"
    }
  },
  "cells": [
    {
      "cell_type": "markdown",
      "metadata": {
        "id": "view-in-github",
        "colab_type": "text"
      },
      "source": [
        "<a href=\"https://colab.research.google.com/github/CDeGrazia/programing-practice-outside-of-class/blob/main/random_password_generation.ipynb\" target=\"_parent\"><img src=\"https://colab.research.google.com/assets/colab-badge.svg\" alt=\"Open In Colab\"/></a>"
      ]
    },
    {
      "cell_type": "code",
      "execution_count": 7,
      "metadata": {
        "colab": {
          "base_uri": "https://localhost:8080/"
        },
        "id": "mxaFhHcbIrtX",
        "outputId": "fbd48cfd-3e5d-4364-b2aa-9f09a5717cda"
      },
      "outputs": [
        {
          "output_type": "stream",
          "name": "stdout",
          "text": [
            "qV2!mymI.eN=\n"
          ]
        }
      ],
      "source": [
        "import random\n",
        "\n",
        "def generate_password(length):\n",
        "   \n",
        "    character_set = \"abcdefghijklmnopqrstuvwxyzABCDEFGHIJKLMNOPQRSTUVWXYZ1234567890!@#$%^&*()_+-=[]{}|;':\\\",./<>?\"\n",
        "\n",
        "    \n",
        "    password = ''.join(random.choice(character_set) for i in range(length))\n",
        "\n",
        "   \n",
        "    return password\n",
        "\n",
        "\n",
        "password = generate_password(12)\n",
        "print(password)\n"
      ]
    },
    {
      "cell_type": "markdown",
      "source": [
        "random password generation"
      ],
      "metadata": {
        "id": "B3N3Kl03I75D"
      }
    },
    {
      "cell_type": "code",
      "source": [],
      "metadata": {
        "id": "C5dvJAprLbYv"
      },
      "execution_count": null,
      "outputs": []
    }
  ]
}