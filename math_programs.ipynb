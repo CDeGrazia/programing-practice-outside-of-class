{
  "nbformat": 4,
  "nbformat_minor": 0,
  "metadata": {
    "colab": {
      "provenance": [],
      "authorship_tag": "ABX9TyObkNOYUwH8kVLT4rJT4z/l",
      "include_colab_link": true
    },
    "kernelspec": {
      "name": "python3",
      "display_name": "Python 3"
    },
    "language_info": {
      "name": "python"
    }
  },
  "cells": [
    {
      "cell_type": "markdown",
      "metadata": {
        "id": "view-in-github",
        "colab_type": "text"
      },
      "source": [
        "<a href=\"https://colab.research.google.com/github/CDeGrazia/programing-practice-outside-of-class/blob/main/math_programs.ipynb\" target=\"_parent\"><img src=\"https://colab.research.google.com/assets/colab-badge.svg\" alt=\"Open In Colab\"/></a>"
      ]
    },
    {
      "cell_type": "code",
      "execution_count": 5,
      "metadata": {
        "colab": {
          "base_uri": "https://localhost:8080/"
        },
        "id": "e8IMLH2_Lg6J",
        "outputId": "7be67e1c-a745-4f61-ca40-00ed2633770a"
      },
      "outputs": [
        {
          "output_type": "stream",
          "name": "stdout",
          "text": [
            "The average of 89 78 and 69 is 78.66666666666667\n"
          ]
        }
      ],
      "source": [
        "\n",
        "\n",
        "\n",
        "num1 = 89\n",
        "num2 = 78\n",
        "num3 = 69\n",
        "\n",
        "\n",
        "average = (num1 + num2 + num3) / 3\n",
        "\n",
        "\n",
        "print(\"The average of\", num1, num2, \"and\", num3, \"is\", average)\n"
      ]
    },
    {
      "cell_type": "markdown",
      "source": [
        "program that find the average of 3 numbers"
      ],
      "metadata": {
        "id": "jTgmgX3uLiix"
      }
    },
    {
      "cell_type": "code",
      "source": [
        "\n",
        "\n",
        "\n",
        "x1, y1 = input(\"Enter the coordinates of point p1 separated by a comma: \").split(\",\")\n",
        "x2, y2 = input(\"Enter the coordinates of point p2 separated by a comma: \").split(\",\")\n",
        "\n",
        "\n",
        "x1, y1, x2, y2 = float(x1), float(y1), float(x2), float(y2)\n",
        "\n",
        "\n",
        "midpoint_x = (x1 + x2) / 2\n",
        "midpoint_y = (y1 + y2) / 2\n",
        "\n",
        "\n",
        "center = (midpoint_x, midpoint_y)\n",
        "\n",
        "\n",
        "print(\"The center of a circle with p1 and p2 on its circumference is:\", center)\n"
      ],
      "metadata": {
        "colab": {
          "base_uri": "https://localhost:8080/"
        },
        "id": "9wU53gOWM4uh",
        "outputId": "beb57028-2204-4fe3-f8eb-56177006ef8c"
      },
      "execution_count": 3,
      "outputs": [
        {
          "output_type": "stream",
          "name": "stdout",
          "text": [
            "Enter the coordinates of point p1 separated by a comma: 3,4\n",
            "Enter the coordinates of point p2 separated by a comma: 9,12\n",
            "The center of a circle with p1 and p2 on its circumference is: (6.0, 8.0)\n"
          ]
        }
      ]
    },
    {
      "cell_type": "markdown",
      "source": [
        "this program will find the center of a circle given you have the two endpoints of the diamater diameter"
      ],
      "metadata": {
        "id": "pZ6fnQWaNwFV"
      }
    }
  ]
}